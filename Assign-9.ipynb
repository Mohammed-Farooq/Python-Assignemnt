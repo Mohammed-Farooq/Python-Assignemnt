{
 "cells": [
  {
   "cell_type": "code",
   "execution_count": null,
   "id": "008fca3d-795c-4f2c-8803-f751db0f038a",
   "metadata": {},
   "outputs": [],
   "source": [
    "1. To what does a relative path refer?\n",
    "\n",
    "Ans:-\n",
    "relative path shows current working directory path\n",
    "\n",
    "for me it is: Python Basic Assignments\\Assignment_9.ipynb"
   ]
  },
  {
   "cell_type": "code",
   "execution_count": 1,
   "id": "bc2ef73a-1df3-4dd9-bb73-fd2904d809d1",
   "metadata": {},
   "outputs": [
    {
     "data": {
      "text/plain": [
       "'/home/jovyan/work/E:\\\\data science\\\\ineuron full stack DS\\\\Assignments\\\\PythonBasicAssignments\\\\Assignment_p.ipynb'"
      ]
     },
     "execution_count": 1,
     "metadata": {},
     "output_type": "execute_result"
    }
   ],
   "source": [
    "import os\n",
    "path = 'E:\\data science\\ineuron full stack DS\\Assignments\\PythonBasicAssignments\\Assignment_p.ipynb'\n",
    "os.path.realpath(path)\n"
   ]
  },
  {
   "cell_type": "code",
   "execution_count": null,
   "id": "23ae7731-0b96-42cd-82d9-78438e8ecfac",
   "metadata": {},
   "outputs": [],
   "source": [
    "2. What does an absolute path start with your operating system?\n",
    "\n",
    "Ans:-\n",
    "\n",
    "absolute path = pwd + relative path\n",
    "\n",
    "absolute path always starts with rootdi directory\n",
    "\n",
    "\n",
    "os.path.abspath(path)"
   ]
  },
  {
   "cell_type": "code",
   "execution_count": null,
   "id": "2aa75b8b-ec46-4d47-a4fe-a85fb988c154",
   "metadata": {},
   "outputs": [],
   "source": [
    "3. What do the functions os.getcwd() and os.chdir() do?\n",
    "\n",
    "Ans:-\n",
    "\n",
    "os.chdir() performs change directory\n",
    "\n",
    "os.getcwd() gives current working directory"
   ]
  },
  {
   "cell_type": "code",
   "execution_count": 8,
   "id": "7e536fdc-49d6-4794-8aa0-b539c0d27d39",
   "metadata": {},
   "outputs": [
    {
     "data": {
      "text/plain": [
       "<function posix.getcwd()>"
      ]
     },
     "execution_count": 8,
     "metadata": {},
     "output_type": "execute_result"
    }
   ],
   "source": [
    "os.getcwd\n"
   ]
  },
  {
   "cell_type": "code",
   "execution_count": null,
   "id": "ddce4fc2-e7ae-42b8-992d-9d7a1e4afdea",
   "metadata": {},
   "outputs": [],
   "source": [
    "4. What are the . and .. folders?\n",
    "\n",
    "Ans:-\n",
    "\n",
    "these are not real folder but are special names for path\n",
    "\n",
    "(.) = this directory\n",
    "(..)= parent directory"
   ]
  },
  {
   "cell_type": "code",
   "execution_count": null,
   "id": "7ca94291-2ffb-40f9-a4cf-34ec42580ad3",
   "metadata": {},
   "outputs": [],
   "source": [
    "5. In C:\\bacon\\eggs\\spam.txt, which part is the dir name, and which part is the base name?\n",
    "\n",
    "Ans:-\n",
    "\n",
    "C:\\bacon\\eggs --> dir name\n",
    "\n",
    "spam.txt --> base name"
   ]
  },
  {
   "cell_type": "code",
   "execution_count": null,
   "id": "bce35fb2-4b61-4754-97bb-b3020ed2a343",
   "metadata": {},
   "outputs": [],
   "source": [
    "6. What are the three “mode” arguments that can be passed to the open() function?\n",
    "\n",
    "Ans:-\n",
    "Three mode arguments are:\n",
    "\n",
    "1. 'r' --> open for reading in text mode.\n",
    "2. 'w' --> open for writing.\n",
    "3. 'a' --> open for appending."
   ]
  },
  {
   "cell_type": "code",
   "execution_count": null,
   "id": "26a94495-211f-4d44-a3e4-c5e21715ddc3",
   "metadata": {},
   "outputs": [],
   "source": [
    "\n",
    "7. What happens if an existing file is opened in write mode?\n",
    "\n",
    "Ans:-\n",
    "\n",
    "when an existing file is opened in write mode previous content is erased and file is treated as new empty file."
   ]
  },
  {
   "cell_type": "code",
   "execution_count": null,
   "id": "d13cfff1-4fe9-4a8c-a4c8-02541608b4a4",
   "metadata": {},
   "outputs": [],
   "source": [
    "8. How do you tell the difference between read() and readlines()?\n",
    "\n",
    "An\n",
    "read() --> it iterates over each character.\n",
    "\n",
    "readlines() --> read only single line of the file."
   ]
  }
 ],
 "metadata": {
  "kernelspec": {
   "display_name": "Python 3 (ipykernel)",
   "language": "python",
   "name": "python3"
  },
  "language_info": {
   "codemirror_mode": {
    "name": "ipython",
    "version": 3
   },
   "file_extension": ".py",
   "mimetype": "text/x-python",
   "name": "python",
   "nbconvert_exporter": "python",
   "pygments_lexer": "ipython3",
   "version": "3.10.6"
  }
 },
 "nbformat": 4,
 "nbformat_minor": 5
}
