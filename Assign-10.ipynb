{
 "cells": [
  {
   "cell_type": "code",
   "execution_count": null,
   "id": "7b28bedc-9dd6-4688-8319-d8e76fbdd802",
   "metadata": {},
   "outputs": [],
   "source": [
    "1. How do you distinguish between shutil.copy() and shutil.copytree()?\n",
    "\n",
    "Ans:-\n",
    "\n",
    "shutil.copytree() will copy entire folder like branchers of trees\n",
    "\n",
    "whereas shutil.copy() will copy only single folder"
   ]
  },
  {
   "cell_type": "code",
   "execution_count": null,
   "id": "5d22aa72-33d2-47b6-9208-bd3716f11b87",
   "metadata": {},
   "outputs": [],
   "source": [
    "2. What function is used to rename files??\n",
    "Ans:-\n",
    "First import os module then use os.rename() to rename a file."
   ]
  },
  {
   "cell_type": "code",
   "execution_count": null,
   "id": "df15f043-fadc-460a-8fb0-12e1fb02e715",
   "metadata": {},
   "outputs": [],
   "source": [
    "3. What is the difference between the delete functions in the send2trash and shutil modules?\n",
    "\n",
    "Ans:-\n",
    "send2trash sends file to recycle bin\n",
    "\n",
    "shutil module deletes file permanantly."
   ]
  },
  {
   "cell_type": "code",
   "execution_count": null,
   "id": "aa0f8b2d-d08f-4e15-89f6-b7e6323e0464",
   "metadata": {},
   "outputs": [],
   "source": []
  },
  {
   "cell_type": "code",
   "execution_count": null,
   "id": "9758440a-27ee-4ec3-b09e-c9e1cc037479",
   "metadata": {},
   "outputs": [],
   "source": [
    "4.ZipFile objects have a close() method just like File objects’ close() method.what ZipFile method is equivalent to File objects’ open() method?\n",
    "\n",
    "Ans:-\n",
    "\n",
    "to open or write to a zipfile we use 'w' as second argument similar to file objects open()"
   ]
  },
  {
   "cell_type": "code",
   "execution_count": 1,
   "id": "0b0dd3c4-b598-4ec7-bef4-7775ceb210c1",
   "metadata": {},
   "outputs": [],
   "source": [
    "\n",
    "import zipfile as zf\n",
    "a = zf.ZipFile(\"abc.zip\",'w')\n",
    "a.close()"
   ]
  },
  {
   "cell_type": "code",
   "execution_count": null,
   "id": "88a8cd02-3f36-4dd2-a2e7-6309af1e24c9",
   "metadata": {},
   "outputs": [],
   "source": [
    "5. Create a programme that searches a folder tree for files with a certain file extension (such as .pdf or .jpg). Copy these files from whatever location they are in to a new folder.\n",
    "Ans:-\n",
    "\n",
    "import os\n",
    "\n",
    "import shutil"
   ]
  },
  {
   "cell_type": "code",
   "execution_count": 4,
   "id": "9ff766cd-12b7-4951-9a7f-20602a406b37",
   "metadata": {},
   "outputs": [],
   "source": [
    "import os, shutil\n",
    "\n",
    "def search_and_copy(folder, extensions, destFolder):\n",
    "    folder = os.path.abspath(folder)\n",
    "    destFolder = os.path.abspath(destFolder)\n",
    "    print('searching --> {} for {} file'.format(folder,extensions))\n",
    "    for foldername, subfolders, filenames in os.walk(folder):\n",
    "        for filename in filenames:\n",
    "            name, extension = os.path.splitext(filename)\n",
    "            if extension in extensions:\n",
    "                fileAbsPath = foldername + os.path.sep + filename\n",
    "                print('Coping', fileAbsPath, 'to', destFolder)\n",
    "                shutil.copy(fileAbsPath, destFolder)\n",
    "\n",
    "extensions = ['.pdf','.jpg']\n",
    "folder = 'randomfolder'\n",
    "destFolder = 'destination'"
   ]
  },
  {
   "cell_type": "code",
   "execution_count": null,
   "id": "3884e599-eeca-4c22-a08f-9ce3a6dc08df",
   "metadata": {},
   "outputs": [],
   "source": []
  }
 ],
 "metadata": {
  "kernelspec": {
   "display_name": "Python 3 (ipykernel)",
   "language": "python",
   "name": "python3"
  },
  "language_info": {
   "codemirror_mode": {
    "name": "ipython",
    "version": 3
   },
   "file_extension": ".py",
   "mimetype": "text/x-python",
   "name": "python",
   "nbconvert_exporter": "python",
   "pygments_lexer": "ipython3",
   "version": "3.10.6"
  }
 },
 "nbformat": 4,
 "nbformat_minor": 5
}
