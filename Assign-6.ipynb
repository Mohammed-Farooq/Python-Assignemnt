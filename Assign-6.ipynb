{
 "cells": [
  {
   "cell_type": "code",
   "execution_count": 5,
   "id": "a1178d7d-50eb-4fb2-b0c3-98de21cf6e0f",
   "metadata": {},
   "outputs": [
    {
     "name": "stdout",
     "output_type": "stream",
     "text": [
      "hi my name is \t farooq mohammed\n"
     ]
    }
   ],
   "source": [
    "#1. What are escape characters, and how do you use them?\n",
    "\n",
    "#Backslash \" \\ \" is a special character used to represent certain whitespace character like \\n, \\t, \\r\n",
    "#Ans:-\n",
    "\n",
    "print(\"hi my name is \\t farooq mohammed\")\n"
   ]
  },
  {
   "cell_type": "code",
   "execution_count": null,
   "id": "27527368-57c6-4134-9041-cf0edf53bfac",
   "metadata": {},
   "outputs": [],
   "source": [
    "2. What do the escape characters n and t stand for?\n",
    "Ans:-\n",
    "\n",
    "\\n == new line\n",
    "\n",
    "\\t == tab"
   ]
  },
  {
   "cell_type": "code",
   "execution_count": null,
   "id": "301be801-c131-4f8a-a5c4-e6743fa2e931",
   "metadata": {},
   "outputs": [],
   "source": [
    "3. What is the way to include backslash characters in a string?\n",
    "Ans:-\n",
    "\n",
    "we can use \\ \\ ."
   ]
  },
  {
   "cell_type": "code",
   "execution_count": null,
   "id": "cf648616-3cd4-455c-a554-6b384710b2f0",
   "metadata": {},
   "outputs": [],
   "source": [
    "4. The string \"Howl's Moving Castle\" is a correct value. Why isn't the single quote character in the word Howl's not escaped a problem?"
   ]
  },
  {
   "cell_type": "code",
   "execution_count": 6,
   "id": "9060bcd0-8367-43ab-933e-c599f75fd6ac",
   "metadata": {},
   "outputs": [
    {
     "name": "stdout",
     "output_type": "stream",
     "text": [
      "Howl's Moving Castle\n"
     ]
    }
   ],
   "source": [
    "\n",
    "print(\"Howl's Moving Castle\") #because of the double quotes it doesn't raise a problem."
   ]
  },
  {
   "cell_type": "code",
   "execution_count": null,
   "id": "683b12ce-b82c-47db-8990-df32c4d202cb",
   "metadata": {},
   "outputs": [],
   "source": [
    "5. How do you write a string of newlines if you don't want to use the n character?"
   ]
  },
  {
   "cell_type": "code",
   "execution_count": 7,
   "id": "674f0898-3e19-4ad7-8ac0-704d30088004",
   "metadata": {},
   "outputs": [
    {
     "name": "stdout",
     "output_type": "stream",
     "text": [
      "hello\n",
      "World\n"
     ]
    }
   ],
   "source": [
    "print(\"hello\", end = \"\\n\")\n",
    "print(\"World\")\n"
   ]
  },
  {
   "cell_type": "code",
   "execution_count": null,
   "id": "422d5eec-b760-45d8-8bbb-0d14e2ac513d",
   "metadata": {},
   "outputs": [],
   "source": [
    "6.What are the values of the given expressions?\n",
    "\n",
    "'Hello, world!'[1] 'Hello, world!'[0:5] 'Hello, world!'[:5] 'Hello, world!'[3:]"
   ]
  },
  {
   "cell_type": "code",
   "execution_count": 19,
   "id": "add490c9-8e63-49c1-87c7-e23725be0b99",
   "metadata": {},
   "outputs": [
    {
     "data": {
      "text/plain": [
       "'e'"
      ]
     },
     "execution_count": 19,
     "metadata": {},
     "output_type": "execute_result"
    }
   ],
   "source": [
    "'Hello, world!'[1]\n",
    "\n"
   ]
  },
  {
   "cell_type": "code",
   "execution_count": 20,
   "id": "9e455255-44e9-4fcf-8d94-6deb18c77454",
   "metadata": {},
   "outputs": [
    {
     "data": {
      "text/plain": [
       "'Hello'"
      ]
     },
     "execution_count": 20,
     "metadata": {},
     "output_type": "execute_result"
    }
   ],
   "source": [
    "'Hello, world!'[0:5]\n"
   ]
  },
  {
   "cell_type": "code",
   "execution_count": 21,
   "id": "c94c31a7-422f-4f61-b0b1-64bfa480e408",
   "metadata": {},
   "outputs": [
    {
     "data": {
      "text/plain": [
       "'Hello'"
      ]
     },
     "execution_count": 21,
     "metadata": {},
     "output_type": "execute_result"
    }
   ],
   "source": [
    "'Hello, world!'[:5]\n"
   ]
  },
  {
   "cell_type": "code",
   "execution_count": 22,
   "id": "782792b1-3ab7-46eb-abe3-15796be55b04",
   "metadata": {},
   "outputs": [
    {
     "data": {
      "text/plain": [
       "'lo, world!'"
      ]
     },
     "execution_count": 22,
     "metadata": {},
     "output_type": "execute_result"
    }
   ],
   "source": [
    "'Hello, world!'[3:]"
   ]
  },
  {
   "cell_type": "code",
   "execution_count": 24,
   "id": "1c796176-4005-4f61-816a-edc9122f9cc2",
   "metadata": {},
   "outputs": [
    {
     "data": {
      "text/plain": [
       "'HELLO'"
      ]
     },
     "execution_count": 24,
     "metadata": {},
     "output_type": "execute_result"
    }
   ],
   "source": [
    "#7. What are the values of the following expressions?\n",
    "\n",
    "\n",
    "'Hello'.upper()\n",
    "\n"
   ]
  },
  {
   "cell_type": "code",
   "execution_count": 25,
   "id": "18722e47-1838-480c-9b23-ba099400cc16",
   "metadata": {},
   "outputs": [
    {
     "data": {
      "text/plain": [
       "True"
      ]
     },
     "execution_count": 25,
     "metadata": {},
     "output_type": "execute_result"
    }
   ],
   "source": [
    "'Hello'.upper().isupper()\n",
    "\n"
   ]
  },
  {
   "cell_type": "code",
   "execution_count": 26,
   "id": "7423f634-c5dd-43c0-b600-ff7958a3b4b2",
   "metadata": {},
   "outputs": [
    {
     "data": {
      "text/plain": [
       "'hello'"
      ]
     },
     "execution_count": 26,
     "metadata": {},
     "output_type": "execute_result"
    }
   ],
   "source": [
    "'Hello'.upper().lower()"
   ]
  },
  {
   "cell_type": "code",
   "execution_count": null,
   "id": "abac8359-15d7-4ffe-aafd-eb8e7cc38d0c",
   "metadata": {},
   "outputs": [],
   "source": [
    "8. What are the values of the following expressions?\n",
    "'Remember, remember, the fifth of July.'.split()\n",
    "'-'.join('There can only one.'.split()"
   ]
  },
  {
   "cell_type": "code",
   "execution_count": 27,
   "id": "71a0eeac-e84b-432d-90ac-313c7bd3d3db",
   "metadata": {},
   "outputs": [
    {
     "data": {
      "text/plain": [
       "['Remember,', 'remember,', 'the', 'fifth', 'of', 'July.']"
      ]
     },
     "execution_count": 27,
     "metadata": {},
     "output_type": "execute_result"
    }
   ],
   "source": [
    "\n",
    "'Remember, remember, the fifth of July.'.split()"
   ]
  },
  {
   "cell_type": "code",
   "execution_count": 28,
   "id": "5ab784bf-26bc-484b-a3b6-dd84b27f262b",
   "metadata": {},
   "outputs": [
    {
     "data": {
      "text/plain": [
       "'There-can-only-one.'"
      ]
     },
     "execution_count": 28,
     "metadata": {},
     "output_type": "execute_result"
    }
   ],
   "source": [
    "'-'.join('There can only one.'.split())"
   ]
  },
  {
   "cell_type": "code",
   "execution_count": null,
   "id": "c94daa29-5c66-48eb-bba9-9875ffb0b3ab",
   "metadata": {},
   "outputs": [],
   "source": [
    "9. What are the methods for right-justifying, left-justifying, and centering a string?\n",
    "\n",
    "Ans:-\n",
    "\n",
    "rjust()\n",
    "\n",
    "ljust()\n",
    "\n",
    "center()"
   ]
  },
  {
   "cell_type": "code",
   "execution_count": 29,
   "id": "a1807621-9634-4de6-bc26-ebaad15b91bf",
   "metadata": {},
   "outputs": [
    {
     "data": {
      "text/plain": [
       "'helloworld'"
      ]
     },
     "execution_count": 29,
     "metadata": {},
     "output_type": "execute_result"
    }
   ],
   "source": [
    "#10. What is the best way to remove whitespace characters from the start or end?\n",
    "\n",
    "string = \"hello world\"\n",
    "string.replace(\" \",\"\")\n"
   ]
  },
  {
   "cell_type": "code",
   "execution_count": null,
   "id": "2be7cbe9-6035-415c-b034-df43c2e9dc3b",
   "metadata": {},
   "outputs": [],
   "source": []
  }
 ],
 "metadata": {
  "kernelspec": {
   "display_name": "Python 3 (ipykernel)",
   "language": "python",
   "name": "python3"
  },
  "language_info": {
   "codemirror_mode": {
    "name": "ipython",
    "version": 3
   },
   "file_extension": ".py",
   "mimetype": "text/x-python",
   "name": "python",
   "nbconvert_exporter": "python",
   "pygments_lexer": "ipython3",
   "version": "3.10.6"
  }
 },
 "nbformat": 4,
 "nbformat_minor": 5
}
