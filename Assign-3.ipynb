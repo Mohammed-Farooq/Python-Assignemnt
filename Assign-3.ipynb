{
 "cells": [
  {
   "cell_type": "code",
   "execution_count": null,
   "id": "252bc876-163d-41af-9b11-a72bd1dcdcba",
   "metadata": {},
   "outputs": [],
   "source": [
    "1. Why are functions advantageous to have in your programs?\n",
    "\n",
    "Ans:- Functions reduce the need for duplicate code. This makes programs shorter, easier to read, and easier to update."
   ]
  },
  {
   "cell_type": "code",
   "execution_count": null,
   "id": "487c0efa-4188-4fc4-8d5e-c49f0bf6558c",
   "metadata": {},
   "outputs": [],
   "source": [
    "2. When does the code in a function run: when it's specified or when it's called?\n",
    "\n",
    "Ans:- The code in a function executes when the function is called, not when the function is defined."
   ]
  },
  {
   "cell_type": "code",
   "execution_count": null,
   "id": "63a68d3a-f470-4908-a6b4-e3dc0931c022",
   "metadata": {},
   "outputs": [],
   "source": [
    "3. What statement creates a function?"
   ]
  },
  {
   "cell_type": "code",
   "execution_count": 5,
   "id": "bf13d5ba-59c5-4012-a95c-b04ad83c437b",
   "metadata": {},
   "outputs": [
    {
     "data": {
      "text/plain": [
       "<function __main__.function_name(farooq)>"
      ]
     },
     "execution_count": 5,
     "metadata": {},
     "output_type": "execute_result"
    }
   ],
   "source": [
    "def function_name(farooq):\n",
    "    return farooq\n",
    "function_name"
   ]
  },
  {
   "cell_type": "code",
   "execution_count": null,
   "id": "0aeb1a53-8a71-403a-9705-64b1e0a49ac4",
   "metadata": {},
   "outputs": [],
   "source": [
    "4. What is the difference between a function and a function call?\n",
    "\n",
    "Ans:-\n",
    "function is a pre-coded task which will only perform if it is called. this is where function call comes into picture to achieve the task."
   ]
  },
  {
   "cell_type": "code",
   "execution_count": 6,
   "id": "d4f03d0b-d52a-4368-9280-f3ed1befe632",
   "metadata": {},
   "outputs": [],
   "source": [
    "#def of funcion \n",
    "\n",
    "def my_func(): \n",
    "    pass \n",
    "my_func() #calling of function"
   ]
  },
  {
   "cell_type": "code",
   "execution_count": null,
   "id": "6614d9c6-221e-4d74-bab3-bc7a4c025d3a",
   "metadata": {},
   "outputs": [],
   "source": [
    "5. How many global scopes are there in a Python program? How many local scopes?\n",
    "\n",
    "Ans:-\n",
    "There is only one global scope per python program. This scope remains in existence until the program terminates , and a local scope is created whenever a function is called."
   ]
  },
  {
   "cell_type": "code",
   "execution_count": null,
   "id": "0e5c24a9-33ab-401d-a0af-0e6951953e4f",
   "metadata": {},
   "outputs": [],
   "source": [
    "6. What happens to variables in a local scope when the function call returns?\n",
    "\n",
    "Ans:-\n",
    "Local variable in function keeps its value when function is called again"
   ]
  },
  {
   "cell_type": "code",
   "execution_count": null,
   "id": "d9ee3400-142f-431c-b6e3-cda5bf28db3b",
   "metadata": {},
   "outputs": [],
   "source": [
    "7. What is the concept of a return value? Is it possible to have a return value in an expression?\n",
    "\n",
    "Ans:-\n",
    "\n",
    "return value is a special statement in a function which used to sent result to caller who called function.\n",
    "\n",
    "It is possible to have return value in an expression.\n"
   ]
  },
  {
   "cell_type": "code",
   "execution_count": null,
   "id": "83274ce7-0b22-4db9-9e26-c4ee284bde9f",
   "metadata": {},
   "outputs": [],
   "source": [
    "8. If a function does not have a return statement, what is the return value of a call to that function?\n",
    "\n",
    "Ans:-\n",
    "\n",
    "If the function does not have a return statement then it will not return anything.\n"
   ]
  },
  {
   "cell_type": "code",
   "execution_count": null,
   "id": "ba35fbd7-7f20-4a1d-947d-a58c94909122",
   "metadata": {},
   "outputs": [],
   "source": [
    "9. How do you make a function variable refer to the global variable?\n",
    "\n",
    "Ans:-\n",
    "\n",
    "when you create a variable inside a function, that variable is local, and can only be used inside that function. \n",
    "To create a global variable inside a function, you can use the global keyword.\n"
   ]
  },
  {
   "cell_type": "code",
   "execution_count": null,
   "id": "522dbbfd-aa11-4ab7-9969-15f134566a97",
   "metadata": {},
   "outputs": [],
   "source": [
    "10. What is the data type of None?\n",
    "\n",
    "Ans:- \n",
    "\n",
    "The None keyword is used to define a null value, or no value at all.\n",
    "None is not the same as 0, False, or an empty string. \n",
    "None is a data type of its own (NoneType) and only None can be None.\n"
   ]
  },
  {
   "cell_type": "code",
   "execution_count": null,
   "id": "4bc4aae2-e128-4c2f-8c9e-58d79516f00a",
   "metadata": {},
   "outputs": [],
   "source": [
    "11. What does the sentence import areallyourpetsnamederic do?\n",
    "\n",
    "Ans:- \n",
    "\n",
    "That import statement imports a module named areallyourpetsnamederic. (This isn't a real Python module, by the way.)\n",
    "\n"
   ]
  },
  {
   "cell_type": "code",
   "execution_count": null,
   "id": "41a8509c-652c-480b-8341-3c76e0bd1f95",
   "metadata": {},
   "outputs": [],
   "source": [
    "12. If you had a bacon() feature in a spam module, what would you call it after importing spam?\n",
    "\n",
    "Ans:- \n",
    "\n",
    "import spam\n",
    "spam.bacon()"
   ]
  },
  {
   "cell_type": "code",
   "execution_count": null,
   "id": "9e4788bb-58b6-4b33-8c43-50d753eccc00",
   "metadata": {},
   "outputs": [],
   "source": [
    "13. What can you do to save a programme from crashing if it encounters an error?\n",
    "\n",
    "Ans:-\n",
    "\n",
    "In Python, we use the try and except statements to handle exceptions. \n",
    "Whenever the code breaks down, an exception is thrown without crashing the program.\n",
    "\n"
   ]
  },
  {
   "cell_type": "code",
   "execution_count": null,
   "id": "f549074f-17f8-41a4-abd2-1dd10f9bc5c1",
   "metadata": {},
   "outputs": [],
   "source": [
    "14. What is the purpose of the try clause? What is the purpose of the except clause?\n",
    "\n",
    "Ans:-\n",
    "\n",
    "Try and Except clause is used to handle the errors within our code .\n",
    "The try block is used to check some code for errors. \n",
    "The code inside the try block will execute when there is no error in the program. \n",
    "Whereas the code inside the except block will execute whenever the program encounters some error in the try block.\n"
   ]
  }
 ],
 "metadata": {
  "kernelspec": {
   "display_name": "Python 3 (ipykernel)",
   "language": "python",
   "name": "python3"
  },
  "language_info": {
   "codemirror_mode": {
    "name": "ipython",
    "version": 3
   },
   "file_extension": ".py",
   "mimetype": "text/x-python",
   "name": "python",
   "nbconvert_exporter": "python",
   "pygments_lexer": "ipython3",
   "version": "3.10.6"
  }
 },
 "nbformat": 4,
 "nbformat_minor": 5
}
