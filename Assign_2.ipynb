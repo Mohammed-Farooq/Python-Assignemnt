{
  "nbformat": 4,
  "nbformat_minor": 0,
  "metadata": {
    "colab": {
      "provenance": []
    },
    "kernelspec": {
      "name": "python3",
      "display_name": "Python 3"
    },
    "language_info": {
      "name": "python"
    }
  },
  "cells": [
    {
      "cell_type": "markdown",
      "source": [
        "1.What are the two values of the Boolean data type? How do you write them?\n",
        "\n",
        "Ans:- The boolean value can be of two types only i.e. either True or False.\n",
        "\n",
        "#Eg:\n",
        "a=True\n",
        "b=False\n",
        "print(a)\n",
        "print(b)"
      ],
      "metadata": {
        "id": "gu3z-pF7xc3G"
      }
    },
    {
      "cell_type": "markdown",
      "source": [
        "2. What are the three different types of Boolean operators?\n",
        "\n",
        "Ans:- \n",
        "\n",
        "The three boolean operators are: AND, OR, and NOT."
      ],
      "metadata": {
        "id": "0vqrtPOSx1Mk"
      }
    },
    {
      "cell_type": "markdown",
      "source": [
        "3. Make a list of each Boolean operator's truth tables (i.e. every possible combination of Boolean\n",
        "values for the operator and what it evaluate ).\n",
        "\n",
        "Ans:- True and True is True.\n",
        "\n",
        "      True and False is False.\n",
        "\n",
        "      False and True is False.\n",
        "\n",
        "      False and False is False.\n",
        "\n",
        "      True or True is True.\n",
        "\n",
        "      True or False is True.\n",
        "\n",
        "      False or True is True.\n",
        "\n",
        "      False or False is False.\n",
        "\n",
        "      not True is False.\n",
        "\n",
        "      not False is True.\n",
        "\n",
        "True is 1 and False is 0\n",
        "Truth Table for AND\n",
        "A B output\n",
        "0 0 0\n",
        "0 1 0\n",
        "1 0 0\n",
        "1 1 1\n",
        "Truth Table for OR\n",
        "A B output\n",
        "0 0 0\n",
        "0 1 1\n",
        "1 0 1\n",
        "1 1 1\n",
        "Truth Table for NOT\n",
        "A output\n",
        "0 1\n",
        "1 0\n"
      ],
      "metadata": {
        "id": "cgxI3hjcyByj"
      }
    },
    {
      "cell_type": "markdown",
      "source": [
        "Q4. What are the values of the following expressions?\n",
        "\n",
        "print((5>4) and (3==5))\n",
        "print(not(5>4))\n",
        "print((5>4) or (3==5))\n",
        "print(not(5>4) or (3==5))\n",
        "print((True and True) and (True==False))\n",
        "print((not(False))or(not(True)))\n",
        "\n",
        "Ans:- False\n",
        "      False\n",
        "      True\n",
        "      False\n",
        "      False\n",
        "      True"
      ],
      "metadata": {
        "id": "nLB3V-J6zkWn"
      }
    },
    {
      "cell_type": "code",
      "source": [
        "print((5>4) and (3==5)) \n",
        "print(not(5>4)) \n",
        "print((5>4) or (3==5))\n",
        "print(not(5>4) or (3==5))\n",
        "print((True and True) and (True==False)) \n",
        "print((not(False))or(not(True)))"
      ],
      "metadata": {
        "colab": {
          "base_uri": "https://localhost:8080/"
        },
        "id": "t0v_1ap3z4kI",
        "outputId": "2d3597a1-a9f8-4598-9d2e-031eb4cf4d88"
      },
      "execution_count": 2,
      "outputs": [
        {
          "output_type": "stream",
          "name": "stdout",
          "text": [
            "False\n",
            "False\n",
            "True\n",
            "False\n",
            "False\n",
            "True\n"
          ]
        }
      ]
    },
    {
      "cell_type": "markdown",
      "source": [
        "5. What are the six comparison operators?\n",
        "\n",
        "Ans:- ==, !=, <, >, <=, and >="
      ],
      "metadata": {
        "id": "tp6v5FXn0WZ2"
      }
    },
    {
      "cell_type": "markdown",
      "source": [
        "6. How do you tell the difference between the equal to and assignment operators?Describe a\n",
        "condition and when you would use one."
      ],
      "metadata": {
        "id": "xIuyI4lc0dQz"
      }
    },
    {
      "cell_type": "code",
      "source": [
        "#eg.\n",
        "\n",
        "# Equal To Operator\n",
        "if(2==3):\n",
        "    print(\"True\")\n",
        "else:\n",
        "    print(\"False\")\n",
        "    \n",
        "#Assignment operator\n",
        "c=1 #here we have used assignment operator(=) to assign value of c which is 1\n",
        "print(\"c =\",c)"
      ],
      "metadata": {
        "colab": {
          "base_uri": "https://localhost:8080/"
        },
        "id": "ejk30PFG0u1a",
        "outputId": "48736e63-f86d-4224-f043-c9ae3931ee1f"
      },
      "execution_count": 3,
      "outputs": [
        {
          "output_type": "stream",
          "name": "stdout",
          "text": [
            "False\n",
            "c = 1\n"
          ]
        }
      ]
    },
    {
      "cell_type": "markdown",
      "source": [
        "7. Identify the three blocks in this code:"
      ],
      "metadata": {
        "id": "bYx9_7KV03eC"
      }
    },
    {
      "cell_type": "code",
      "source": [
        "spam = 0\n",
        "if spam == 10:\n",
        "    print('eggs') #Block 1\n",
        "if spam > 5:\n",
        "    print('bacon') #Block 2\n",
        "else:\n",
        "    print('ham') #Block 3\n",
        "    print('spam')\n",
        "    print('spam')"
      ],
      "metadata": {
        "colab": {
          "base_uri": "https://localhost:8080/"
        },
        "id": "mjUHQD-K1Cfp",
        "outputId": "47caf910-7404-4117-a3cc-547f18dbcdec"
      },
      "execution_count": 4,
      "outputs": [
        {
          "output_type": "stream",
          "name": "stdout",
          "text": [
            "ham\n",
            "spam\n",
            "spam\n"
          ]
        }
      ]
    },
    {
      "cell_type": "markdown",
      "source": [
        "Q8. Write code that prints Hello if 1 is stored in spam, prints Howdy if 2 is stored in spam, and prints Greetings! if anything else is stored in spam."
      ],
      "metadata": {
        "id": "jDTgL74C1YMI"
      }
    },
    {
      "cell_type": "code",
      "source": [
        "spam = int(input(\"enter a num\"))\n",
        "if spam == 1:\n",
        "    print(\"Hello\")\n",
        "elif spam == 2:\n",
        "    print(\"Howdy\")\n",
        "else:\n",
        "    print(\"Greetings!\")"
      ],
      "metadata": {
        "colab": {
          "base_uri": "https://localhost:8080/"
        },
        "id": "_11XQCJW1ZIg",
        "outputId": "ae4b270a-deb4-4f7e-9529-c46524380a36"
      },
      "execution_count": 5,
      "outputs": [
        {
          "output_type": "stream",
          "name": "stdout",
          "text": [
            "enter a num2\n",
            "Howdy\n"
          ]
        }
      ]
    },
    {
      "cell_type": "markdown",
      "source": [
        "9.If your programme is stuck in an endless loop, what keys you’ll press?\n",
        "\n",
        "Ans:-  If program is stuck in endless loop we will press ctrl+c."
      ],
      "metadata": {
        "id": "q9XRNuru1rBm"
      }
    },
    {
      "cell_type": "markdown",
      "source": [
        "10. How can you tell the difference between break and continue?\n",
        "\n",
        "Ans:-"
      ],
      "metadata": {
        "id": "GJLlfPev107O"
      }
    },
    {
      "cell_type": "code",
      "source": [
        "# use of break\n",
        "for i in range(10):\n",
        "    if(i==7):\n",
        "        break\n",
        "    print(i)\n",
        "    \n",
        "print('Breaked')\n",
        "\n",
        "#use of  continue\n",
        "for i in range(10):\n",
        "    if(i==7):\n",
        "        continue\n",
        "    print(i)\n",
        "    "
      ],
      "metadata": {
        "colab": {
          "base_uri": "https://localhost:8080/"
        },
        "id": "gq58KD4r17Ue",
        "outputId": "ac763711-98c9-4b3e-8823-d0401504803e"
      },
      "execution_count": 6,
      "outputs": [
        {
          "output_type": "stream",
          "name": "stdout",
          "text": [
            "0\n",
            "1\n",
            "2\n",
            "3\n",
            "4\n",
            "5\n",
            "6\n",
            "Breaked\n",
            "0\n",
            "1\n",
            "2\n",
            "3\n",
            "4\n",
            "5\n",
            "6\n",
            "8\n",
            "9\n"
          ]
        }
      ]
    },
    {
      "cell_type": "markdown",
      "source": [
        "11. In a for loop, what is the difference between range(10), range(0, 10), and range(0, 10, 1)?\n",
        "\n",
        "Ams:- \n",
        "     From the below output we can conclude that they all do the same thing. The range(10) call ranges from 0 up to (but not including) 10, range(0, 10) tells the loop to start at 0, and range(0, 10, 1) tells the loop to increase the variable by 1 on each iteration.\n"
      ],
      "metadata": {
        "id": "mZNn300b2ONt"
      }
    },
    {
      "cell_type": "code",
      "source": [
        "for i in range(10):\n",
        "    print(i)\n",
        "print(\"got it\") \n",
        "for i in range(0,10):\n",
        "    print(i)\n",
        "print(\"done\")\n",
        "for i in range(0,10,1):\n",
        "    print(i)\n",
        "print(\"ok\")\n"
      ],
      "metadata": {
        "colab": {
          "base_uri": "https://localhost:8080/"
        },
        "id": "FIZE3L892TBF",
        "outputId": "0c2216ca-f542-4698-fb6f-08cfd98fe4ec"
      },
      "execution_count": 13,
      "outputs": [
        {
          "output_type": "stream",
          "name": "stdout",
          "text": [
            "0\n",
            "1\n",
            "2\n",
            "3\n",
            "4\n",
            "5\n",
            "6\n",
            "7\n",
            "8\n",
            "9\n",
            "got it\n",
            "0\n",
            "1\n",
            "2\n",
            "3\n",
            "4\n",
            "5\n",
            "6\n",
            "7\n",
            "8\n",
            "9\n",
            "done\n",
            "0\n",
            "1\n",
            "2\n",
            "3\n",
            "4\n",
            "5\n",
            "6\n",
            "7\n",
            "8\n",
            "9\n",
            "ok\n"
          ]
        }
      ]
    },
    {
      "cell_type": "markdown",
      "source": [
        "12. Write a short program that prints the numbers 1 to 10 using a for loop. Then write an equivalent\n",
        "program that prints the numbers 1 to 10 using a while loop."
      ],
      "metadata": {
        "id": "YlKylid03WU5"
      }
    },
    {
      "cell_type": "code",
      "source": [
        "#Use of For Loop\n",
        "print(\"For Loop\")\n",
        "for i in range(1,11):\n",
        "    print(i)\n",
        "#Use of While Loop\n",
        "print(\"While Loop\")\n",
        "a =1\n",
        "while a <= 10:\n",
        "    print(a)\n",
        "    a+=1"
      ],
      "metadata": {
        "colab": {
          "base_uri": "https://localhost:8080/"
        },
        "id": "qnqHD7Jz3Y6k",
        "outputId": "9a3c3fe2-c7b9-49e8-a758-fd7e69c1c15b"
      },
      "execution_count": 14,
      "outputs": [
        {
          "output_type": "stream",
          "name": "stdout",
          "text": [
            "For Loop\n",
            "1\n",
            "2\n",
            "3\n",
            "4\n",
            "5\n",
            "6\n",
            "7\n",
            "8\n",
            "9\n",
            "10\n",
            "While Loop\n",
            "1\n",
            "2\n",
            "3\n",
            "4\n",
            "5\n",
            "6\n",
            "7\n",
            "8\n",
            "9\n",
            "10\n"
          ]
        }
      ]
    },
    {
      "cell_type": "markdown",
      "source": [
        "13. If you had a function named bacon() inside a module named spam, how would you call it after\n",
        "importing spam?\n",
        "\n",
        "Ans:- This function can be called with spam.bacon()."
      ],
      "metadata": {
        "id": "JDHIHih63kUp"
      }
    }
  ]
}