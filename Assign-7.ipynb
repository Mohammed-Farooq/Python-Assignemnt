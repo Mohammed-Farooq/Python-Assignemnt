{
 "cells": [
  {
   "cell_type": "code",
   "execution_count": null,
   "id": "099477b1-4266-46d0-be42-352bed55260c",
   "metadata": {},
   "outputs": [],
   "source": [
    "1. What is the name of the feature responsible for generating Regex objects?\n",
    "\n",
    "Ans:-\n",
    "re module is used for generation of Regex objects {re.compitle()}\n",
    "\n",
    "In the Python programming language, the re module is responsible for providing functionality for working with regular expressions, including generating regular expression objects. \n",
    "This module provides various methods and functions for creating and working with regular expression objects, such as the re.compile() function, which can be used to compile a regular expression pattern into a regular expression object that can be used for matching and searching strings."
   ]
  },
  {
   "cell_type": "code",
   "execution_count": null,
   "id": "cbac036a-4cef-48d4-b634-4d0c12c4538f",
   "metadata": {},
   "outputs": [],
   "source": [
    "2. Why do raw strings often appear in Regex objects?\n",
    "\n",
    "Ans:-\n",
    "\n",
    "Raw strings are often used in regular expression patterns because they allow you to specify regular expression patterns without having to escape backslashes (\\).\n",
    "In regular expression patterns, backslashes are used to indicate special characters and sequences, such as digits (\\d) and word boundaries (\\b)."
   ]
  },
  {
   "cell_type": "code",
   "execution_count": null,
   "id": "d69b9e46-55ec-4660-ad99-566355f8264c",
   "metadata": {},
   "outputs": [],
   "source": [
    "3. What is the return value of the search() method?\n",
    "Ans:_\n",
    "if it finds the pattern then it returns matchable object or else none."
   ]
  },
  {
   "cell_type": "code",
   "execution_count": null,
   "id": "8455ce39-6b46-4d57-8f79-64afb325a07b",
   "metadata": {},
   "outputs": [],
   "source": [
    "4. From a Match item, how do you get the actual strings that match the pattern?\n",
    "\n",
    "Ans:-\n",
    "The group() method returns the matched string for the given group. \n",
    "If called without any arguments, it will return the string that matched the whole pattern."
   ]
  },
  {
   "cell_type": "code",
   "execution_count": null,
   "id": "f727ee47-b7d8-41d5-8a39-70a77c90faa5",
   "metadata": {},
   "outputs": [],
   "source": [
    "5. In the regex which created from the r'(\\d\\d\\d)-(\\d\\d\\d-\\d\\d\\d\\d)', what does group zero cover? Group 2? Group 1?\n",
    "\n",
    "Ans:-\n",
    "\n",
    "In this regular expression, \n",
    "group(0) would match the entire string '\\d\\d\\d-\\d\\d\\d-\\d\\d\\d\\d'.\n",
    "group(1) would match the first group of digits, '\\d\\d\\d', and\n",
    "group(2) would match the second group of digits, '\\d\\d\\d-\\d\\d\\d\\d'."
   ]
  },
  {
   "cell_type": "code",
   "execution_count": null,
   "id": "79091b98-db45-4ddc-8a39-df3cd020c55d",
   "metadata": {},
   "outputs": [],
   "source": [
    "6. In standard expression syntax, parentheses and intervals have distinct meanings. \n",
    "How can you tell a regex that you want it to fit real parentheses and periods?\n",
    "\n",
    "Ans:-\n",
    "To match actual parentheses and periods in a regular expression, you need to escape them with a backslash. \n",
    "For example, to match the string '(this is a test)', you would use the pattern '\\(this is a test\\)'. \n",
    "Similarly, to match the string '1.23', you would use the pattern '1\\.23'.\n"
   ]
  },
  {
   "cell_type": "code",
   "execution_count": null,
   "id": "c4e431e6-1ee4-44f4-bb21-e20415a627e7",
   "metadata": {},
   "outputs": [],
   "source": [
    "7. The findall() method returns a string list or a list of string tuples. What causes it to return one of the two options?\n",
    "\n",
    "Ans:-\n",
    "\n",
    "The findall() method returns a list of strings if the regular expression pattern contains no groups, or a list of tuples of strings if the pattern contains one or more groups."
   ]
  },
  {
   "cell_type": "code",
   "execution_count": null,
   "id": "7caae70c-3e01-4502-a3a0-d4061e8a8996",
   "metadata": {},
   "outputs": [],
   "source": [
    "8. In standard expressions, what does the | character mean?\n",
    "\n",
    "Ans:-\n",
    "in standard ecpression \" | \" means Alternation"
   ]
  },
  {
   "cell_type": "code",
   "execution_count": null,
   "id": "3b707a9c-aba5-43a2-90f9-9f228e4f3d77",
   "metadata": {},
   "outputs": [],
   "source": [
    "9. In regular expressions, what does the ? character stand for?\n",
    "Ans:-\n",
    "it stands for match zero or one of the preceding group"
   ]
  },
  {
   "cell_type": "code",
   "execution_count": null,
   "id": "b47e660e-04e3-40c6-abc9-d233e8305606",
   "metadata": {},
   "outputs": [],
   "source": [
    "10.In regular expressions, what is the difference between the + and * characters?\n",
    "Ans:-\n",
    "+ means one or more\n",
    "* means zero or more"
   ]
  },
  {
   "cell_type": "code",
   "execution_count": null,
   "id": "5e078730-c72c-4282-b879-53fbc722f07e",
   "metadata": {},
   "outputs": [],
   "source": [
    "11. What is the difference between {4} and {4,5} in regular expression?\n",
    "\n",
    "Ans:-\n",
    "\n",
    "the regular expression {4} will match any string that contains exactly four digits, \n",
    "while the regular expression {4,5} will match any string that contains between four and five digits."
   ]
  },
  {
   "cell_type": "code",
   "execution_count": null,
   "id": "f496ce7a-a2af-4651-8952-313819bbcdc6",
   "metadata": {},
   "outputs": [],
   "source": [
    "12. What do you mean by the \\d, \\w, and \\s shorthand character classes signify in regular expressions?\n",
    "\n",
    "Ans:-\n",
    "\n",
    "\\d Matches digits, which means 0-9.\n",
    "\n",
    "\\w Matches alphanumeric characters, which means a-z, A-Z, and 0-9. It also matches the underscore, _.\n",
    "\n",
    "\\s Matches whitespace characters, which include the \\t, \\n, \\r, and space characters."
   ]
  },
  {
   "cell_type": "code",
   "execution_count": null,
   "id": "5038eeab-0d52-4c76-96a3-aa4730151ac6",
   "metadata": {},
   "outputs": [],
   "source": [
    "13. What do means by \\D, \\W, and \\S shorthand character classes signify in regular expressions?\n",
    "Ans:-\n",
    "\n",
    "\\D Matches any non-digits.\n",
    "\n",
    "\\W Matches any non-word character.\n",
    "\n",
    "\\S Matches non-whitespace characters."
   ]
  },
  {
   "cell_type": "code",
   "execution_count": null,
   "id": "f8b240a9-c293-4b35-b95c-d351cf7fbbd7",
   "metadata": {},
   "outputs": [],
   "source": [
    "14.What is the difference between .*? and .*?\n",
    "\n",
    "Ans:-\n",
    "The .* pattern will match any string that contains zero or more characters. \n",
    "It is a greedy pattern, which means it will match as many characters as possible.\n",
    "\n",
    "The .*? pattern will also match any string that contains zero or more characters, but it is a non-greedy pattern. \n",
    "It will match as few characters as possible."
   ]
  },
  {
   "cell_type": "code",
   "execution_count": null,
   "id": "b3f31806-2fac-413d-96a1-5c3fda587aca",
   "metadata": {},
   "outputs": [],
   "source": [
    "15. What is the syntax for matching both numbers and lowercase letters with a character class?\n",
    "\n",
    "Ans:=\n",
    "\n",
    "To match numbers and lowercase letters with a character class, you can use the [0-9a-z] pattern.\n",
    "This pattern uses a range of characters (0-9 and a-z) to match any digit or lowercase letter."
   ]
  },
  {
   "cell_type": "code",
   "execution_count": 16,
   "id": "5601cea2-2466-429f-b469-e664467323d0",
   "metadata": {},
   "outputs": [
    {
     "ename": "TypeError",
     "evalue": "expected string or bytes-like object",
     "output_type": "error",
     "traceback": [
      "\u001b[0;31m---------------------------------------------------------------------------\u001b[0m",
      "\u001b[0;31mTypeError\u001b[0m                                 Traceback (most recent call last)",
      "Cell \u001b[0;32mIn [16], line 10\u001b[0m\n\u001b[1;32m      7\u001b[0m strings \u001b[38;5;241m=\u001b[39m [\u001b[38;5;124m'\u001b[39m\u001b[38;5;124mabc123\u001b[39m\u001b[38;5;124m'\u001b[39m, \u001b[38;5;124m'\u001b[39m\u001b[38;5;124mdef456\u001b[39m\u001b[38;5;124m'\u001b[39m, \u001b[38;5;124m'\u001b[39m\u001b[38;5;124mghi789\u001b[39m\u001b[38;5;124m'\u001b[39m]\n\u001b[1;32m      9\u001b[0m \u001b[38;5;66;03m# Find all matches\u001b[39;00m\n\u001b[0;32m---> 10\u001b[0m matches \u001b[38;5;241m=\u001b[39m \u001b[43mpattern\u001b[49m\u001b[38;5;241;43m.\u001b[39;49m\u001b[43mfindall\u001b[49m\u001b[43m(\u001b[49m\u001b[43mstrings\u001b[49m\u001b[43m)\u001b[49m\n\u001b[1;32m     12\u001b[0m \u001b[38;5;66;03m# Print the matches\u001b[39;00m\n\u001b[1;32m     13\u001b[0m \u001b[38;5;28mprint\u001b[39m(matches)\n",
      "\u001b[0;31mTypeError\u001b[0m: expected string or bytes-like object"
     ]
    }
   ],
   "source": [
    "import re\n",
    "\n",
    "# Pattern to match numbers and lowercase letters\n",
    "pattern = re.compile(r'[0-9a-z]')\n",
    "\n",
    "# Some example strings\n",
    "strings = ['abc123', 'def456', 'ghi789']\n",
    "\n",
    "# Find all matches\n",
    "matches = pattern.findall(strings)\n",
    "\n",
    "# Print the matches\n",
    "print(matches)\n"
   ]
  },
  {
   "cell_type": "code",
   "execution_count": null,
   "id": "b2095db8-d9a0-4067-9438-12b918b16764",
   "metadata": {},
   "outputs": [],
   "source": [
    "16. What is the procedure for making a normal expression in regax case insensitive?\n",
    "\n",
    "Ans:-\n",
    "use re.IGNORECASE to search, match, or sub"
   ]
  },
  {
   "cell_type": "code",
   "execution_count": null,
   "id": "eae7ae28-3d3d-444d-97a2-41da045f596b",
   "metadata": {},
   "outputs": [],
   "source": [
    "17. What does the . character normally match? What does it match if re.DOTALL is passed as 2nd argument in re.compile()?\n",
    "dot character matches everything in input except newline character\n",
    "\n",
    "Ans:-\n",
    "\n",
    "By passing re. DOTALL as the second argument to re. compile() ,\n",
    "you can make the dot character match all characters, including the newline character."
   ]
  },
  {
   "cell_type": "code",
   "execution_count": null,
   "id": "405c6675-d8f1-4ae8-b6ff-b360df7bd92b",
   "metadata": {},
   "outputs": [],
   "source": [
    "18. If numReg = re.compile(r'\\d+'), what will numRegex.sub('X', '11 drummers, 10 pipers, five rings, 4 hen') return?\n",
    "\n",
    "Ans:-\n",
    "'X drummers, X pipers, five rings, X hen'"
   ]
  },
  {
   "cell_type": "code",
   "execution_count": 18,
   "id": "7ec69b9d-2cd5-4ae9-9534-31d06d477a83",
   "metadata": {},
   "outputs": [
    {
     "name": "stdout",
     "output_type": "stream",
     "text": [
      "['X drummers, X pipers, five rings, X hen']\n"
     ]
    }
   ],
   "source": [
    "import re\n",
    "\n",
    "# Compile the regular expression pattern\n",
    "num_pattern = re.compile(r'\\d+')\n",
    "\n",
    "# Some example strings\n",
    "strings = ['11 drummers, 10 pipers, five rings, 4 hen']\n",
    "\n",
    "# Replace all digits with the letter 'X'\n",
    "replaced = [num_pattern.sub('X', s) for s in strings]\n",
    "\n",
    "# Print the replaced strings\n",
    "print(replaced)\n"
   ]
  },
  {
   "cell_type": "code",
   "execution_count": null,
   "id": "bda8fcb9-819a-4917-9628-b96211776793",
   "metadata": {},
   "outputs": [],
   "source": [
    "19. What does passing re.VERBOSE as the 2nd argument to re.compile() allow to do?\n",
    "\n",
    "Ans:-\n",
    "\n",
    "it will allow to add whitespace and comments to string passed to re.compile()."
   ]
  },
  {
   "cell_type": "code",
   "execution_count": null,
   "id": "1b2936d5-df45-4a22-a2a7-b22c055b8b3d",
   "metadata": {},
   "outputs": [],
   "source": [
    "20. How would you write a regex that match a number with comma for every three digits? It must match the given following:\n",
    "'42'\n",
    "\n",
    "'1,234'\n",
    "\n",
    "'6,368,745'\n",
    "\n",
    "but not the following:\n",
    "\n",
    "'12,34,567' (which has only two digits between the commas)\n",
    "\n",
    "'1234' (which lacks commas)"
   ]
  },
  {
   "cell_type": "code",
   "execution_count": 19,
   "id": "cc1778db-9a3d-4657-b21a-acbb5699dc5b",
   "metadata": {},
   "outputs": [
    {
     "data": {
      "text/plain": [
       "re.compile(r'^\\d{1,3}(,\\d{3})*$', re.UNICODE)"
      ]
     },
     "execution_count": 19,
     "metadata": {},
     "output_type": "execute_result"
    }
   ],
   "source": [
    "re.compile(r'^\\d{1,3}(,\\d{3})*$')"
   ]
  },
  {
   "cell_type": "code",
   "execution_count": 20,
   "id": "40fd3a70-d325-493f-9124-955c7d45101a",
   "metadata": {},
   "outputs": [
    {
     "name": "stdout",
     "output_type": "stream",
     "text": [
      "[[''], [',234'], [',745'], [], []]\n"
     ]
    }
   ],
   "source": [
    "import re\n",
    "\n",
    "# Compile the regular expression pattern\n",
    "num_pattern = re.compile(r'^\\d{1,3}(,\\d{3})*$')\n",
    "\n",
    "# Some example strings\n",
    "strings = ['42', '1,234', '6,368,745', '12,34,567', '1234']\n",
    "\n",
    "# Find all matches\n",
    "matches = [num_pattern.findall(s) for s in strings]\n",
    "\n",
    "# Print the matches\n",
    "print(matches)\n"
   ]
  },
  {
   "cell_type": "code",
   "execution_count": null,
   "id": "5e9c24b9-8b77-4665-b75e-8408acfb3be3",
   "metadata": {},
   "outputs": [],
   "source": [
    "21. How would you write a regex that matches the full name of someone whose last name is Watanabe? \n",
    "You can assume that the first name that comes before it will always be one word that begins with a capital letter. \n",
    "The regex must match the following:\n",
    "    \n",
    "'Haruto Watanabe'\n",
    "\n",
    "'Alice Watanabe'\n",
    "\n",
    "'RoboCop Watanabe'\n",
    "\n",
    "but not the following:\n",
    "\n",
    "'haruto Watanabe' (where the first name is not capitalized)\n",
    "\n",
    "'Mr. Watanabe' (where the preceding word has a nonletter character)\n",
    "\n",
    "'Watanabe' (which has no first name)\n",
    "\n",
    "'Haruto watanabe' (where Watanabe is not capitalized)"
   ]
  },
  {
   "cell_type": "code",
   "execution_count": 21,
   "id": "60231004-3f58-4cc4-9ffb-a82ca362af99",
   "metadata": {},
   "outputs": [
    {
     "name": "stdout",
     "output_type": "stream",
     "text": [
      "[['Haruto Watanabe'], ['Alice Watanabe'], [], [], [], [], []]\n"
     ]
    }
   ],
   "source": [
    "import re\n",
    "\n",
    "# Compile the regular expression pattern\n",
    "name_pattern = re.compile(r'^[A-Z][a-z]+ Watanabe$')\n",
    "\n",
    "# Some example strings\n",
    "strings = ['Haruto Watanabe', 'Alice Watanabe', 'RoboCop Watanabe', 'haruto Watanabe', 'Mr. Watanabe', 'Watanabe', 'Haruto watanabe']\n",
    "\n",
    "# Find all matches\n",
    "matches = [name_pattern.findall(s) for s in strings]\n",
    "\n",
    "# Print the matches\n",
    "print(matches)\n"
   ]
  },
  {
   "cell_type": "code",
   "execution_count": null,
   "id": "5548d3f0-4a6d-4d90-afb2-e8f3b2fc7bd1",
   "metadata": {},
   "outputs": [],
   "source": [
    "22. How would you write a regex that matches a sentence where the first word is either Alice, Bob,or Carol; \n",
    "the second word is either eats, pets, or throws; \n",
    "the third word is apples, cats, or baseballs; and the sentence ends with a period? \n",
    "This regex should be case-insensitive. It must match the following:\n",
    "'Alice eats apples.'\n",
    "\n",
    "'Bob pets cats.'\n",
    "\n",
    "'Carol throws baseballs.'\n",
    "\n",
    "'Alice throws Apples.'\n",
    "\n",
    "'BOB EATS CATS.'\n",
    "\n",
    "but not the following: 'RoboCop eats apples.'\n",
    "\n",
    "'ALICE THROWS FOOTBALLS.'\n",
    "\n",
    "'Carol eats 7 cats.'"
   ]
  },
  {
   "cell_type": "code",
   "execution_count": 24,
   "id": "cc6431ce-546f-4b01-9664-933d75f6d678",
   "metadata": {},
   "outputs": [
    {
     "data": {
      "text/plain": [
       "re.compile(r'(Alice|Bob|Carol)\\s(eats|pets|throws)\\s(apples|cats|baseballs)\\.',\n",
       "           re.IGNORECASE|re.UNICODE)"
      ]
     },
     "execution_count": 24,
     "metadata": {},
     "output_type": "execute_result"
    }
   ],
   "source": [
    "\n",
    "re.compile(r'(Alice|Bob|Carol)\\s(eats|pets|throws)\\s(apples|cats|baseballs)\\.', re.IGNORECASE)"
   ]
  },
  {
   "cell_type": "code",
   "execution_count": null,
   "id": "65ccf55a-f735-426e-b72d-7e05de0da0bc",
   "metadata": {},
   "outputs": [],
   "source": []
  }
 ],
 "metadata": {
  "kernelspec": {
   "display_name": "Python 3 (ipykernel)",
   "language": "python",
   "name": "python3"
  },
  "language_info": {
   "codemirror_mode": {
    "name": "ipython",
    "version": 3
   },
   "file_extension": ".py",
   "mimetype": "text/x-python",
   "name": "python",
   "nbconvert_exporter": "python",
   "pygments_lexer": "ipython3",
   "version": "3.10.6"
  }
 },
 "nbformat": 4,
 "nbformat_minor": 5
}
